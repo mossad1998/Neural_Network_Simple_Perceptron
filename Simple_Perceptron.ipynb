{
 "cells": [
  {
   "cell_type": "code",
   "execution_count": 110,
   "id": "84bd24c7-93f8-4bd5-914c-d952e81fcf37",
   "metadata": {},
   "outputs": [
    {
     "data": {
      "image/png": "[encoded data removed]",
      "text/plain": [
       "<Figure size 432x288 with 1 Axes>"
      ]
     },
     "metadata": {
      "needs_background": "light"
     },
     "output_type": "display_data"
    }
   ],
   "source": [
    "from pylab import *\n",
    "import matplotlib.pyplot as plt\n",
    "import numpy as np\n",
    "\n",
    "#Classify ([-1,1],1) - ([-1,-1],1) - ([0,0],0) - ([1,0],0)\n",
    "x1 = [-1,-1,0,1]\n",
    "x2 = [1,-1,0,0]\n",
    "\n",
    "#Red class for [-1,1] and [-1,-1]\n",
    "#Green class for [0,0] and [1,0]\n",
    "color=['r','r','g','g']\n",
    "\n",
    "#plot four points respect to their classes\n",
    "plt.scatter(x1, x2, marker='o', c=color)\n",
    "\n",
    "#Consider the separation line goes through [-.5,-4] and [.5,4]\n",
    "lx1, lx2 = [-.5, -.5], [-4, 4]\n",
    "\n",
    "#Plot the separation Line \n",
    "plt.plot(lx1, lx2, marker = 'o')\n",
    "grid()\n",
    "plt.show()"
   ]
  },
  {
   "cell_type": "code",
   "execution_count": 92,
   "id": "b3e390df-d7e9-4837-9c3f-02f12ca1b8cc",
   "metadata": {},
   "outputs": [
    {
     "name": "stdout",
     "output_type": "stream",
     "text": [
      "point# 1 ( -1  ,  1  )-------------> Class 1\n",
      "point# 2 ( -1  , -1  )-------------> Class 1\n",
      "point# 3 (  0  ,  0  )-------------> Class 0\n",
      "point# 4 (  1  ,  0  )-------------> Class 0\n"
     ]
    }
   ],
   "source": [
    "#Storing x1 values in fx array\n",
    "fx = np.array(x1)\n",
    "\n",
    "#Calculating the function values\n",
    "fx = -fx -.5\n",
    "\n",
    "#Calculating step function as int32\n",
    "class_results = np.array(np.heaviside(fx,0),dtype=np.int32)\n",
    "\n",
    "#Validating the perceptron\n",
    "for i in range(0, class_results.size):\n",
    "    print(\"point#\" ,i+1, \"(\",'{: ^3}'.format(x1[i]),\",\",'{: ^3}'.format(x2[i]),\")-------------> Class\",class_results[i])"
   ]
  },
  {
   "cell_type": "code",
   "execution_count": 158,
   "id": "d4d67fc6-e4fb-42c8-8834-cd5c242bee03",
   "metadata": {},
   "outputs": [
    {
     "name": "stdout",
     "output_type": "stream",
     "text": [
      "point# 1 ( -2  ,  0  ) ----------> Class 1\n",
      "point# 2 (  1  ,  1  ) ----------> Class 0\n",
      "point# 3 (  0  ,  1  ) ----------> Class 0\n",
      "point# 4 ( -1  , -2  ) ----------> Class 1\n"
     ]
    }
   ],
   "source": [
    "#Classify these points [-2,0] , [1,1] , [0,1] , [-1,-2]\n",
    "\n",
    "#X part of the points\n",
    "x = np.array([-2,1,0,-1])\n",
    "\n",
    "#Y part of the points\n",
    "y = np.array([0,1,1,-2])\n",
    "\n",
    "#Calculating the function values\n",
    "fx_classify = -x -.5\n",
    "\n",
    "#Calculating step function as int32\n",
    "class_results_classify = np.array(np.heaviside(fx_classify,0),dtype=np.int32)\n",
    "\n",
    "color_result = [None]*class_results_classify.size\n",
    "\n",
    "#classify using the perceptron\n",
    "for i in range(0, class_results_classify.size):\n",
    "    print(\"point#\",i+1, \"(\",'{: ^3}'.format(x[i]),\",\",'{: ^3}'.format(y[i]),\")\",\"----------> Class\",class_results_classify[i])\n",
    "    if class_results_classify[i] == 1:\n",
    "        color_result[i] = 'r'\n",
    "    elif class_results_classify[i] == 0:\n",
    "        color_result[i]= 'g'"
   ]
  },
  {
   "cell_type": "markdown",
   "id": "ec38f88a-6d24-4be0-b9ba-7f41389b11aa",
   "metadata": {},
   "source": []
  },
  {
   "cell_type": "code",
   "execution_count": 159,
   "id": "79ccdd41-c31f-4c21-a53e-d52de2206c73",
   "metadata": {},
   "outputs": [
    {
     "data": {
      "image/png": "[encoded data removed]",
      "text/plain": [
       "<Figure size 432x288 with 1 Axes>"
      ]
     },
     "metadata": {
      "needs_background": "light"
     },
     "output_type": "display_data"
    }
   ],
   "source": [
    "color=['r','r','g','g']\n",
    "\n",
    "#plot four points respect to their classes\n",
    "plt.scatter(x1, x2, marker='o', c=color)\n",
    "\n",
    "#Consider the separation line goes through [-.5,-4] and [.5,4]\n",
    "lx1, lx2 = [-.5, -.5], [-4, 4]\n",
    "\n",
    "#Plot the separation Line \n",
    "plt.plot(lx1, lx2, marker = 'o')\n",
    "  \n",
    "\n",
    "#plot four points respect to their classes\n",
    "plt.scatter(x, y, marker='x', c=color_result)\n",
    "\n",
    "grid()\n",
    "plt.show()"
   ]
  },
  {
   "cell_type": "code",
   "execution_count": null,
   "id": "76f51495-e86d-41c2-9c06-1730dbc3604b",
   "metadata": {},
   "outputs": [],
   "source": []
  }
 ],
 "metadata": {
  "kernelspec": {
   "display_name": "Python 3 (ipykernel)",
   "language": "python",
   "name": "python3"
  },
  "language_info": {
   "codemirror_mode": {
    "name": "ipython",
    "version": 3
   },
   "file_extension": ".py",
   "mimetype": "text/x-python",
   "name": "python",
   "nbconvert_exporter": "python",
   "pygments_lexer": "ipython3",
   "version": "3.9.7"
  }
 },
 "nbformat": 4,
 "nbformat_minor": 5
}
